{
 "cells": [
  {
   "cell_type": "code",
   "execution_count": 1,
   "id": "5bbe6128-36c1-4444-bdb4-7d3ae411a383",
   "metadata": {},
   "outputs": [],
   "source": [
    "import os\n",
    "from dotenv import load_dotenv, find_dotenv\n",
    "_ = load_dotenv(find_dotenv())\n",
    "openai_api_key = os.environ[\"OPENAI_API_KEY\"]"
   ]
  },
  {
   "cell_type": "code",
   "execution_count": 3,
   "id": "8056e3d8-b6d7-4a06-bbe1-cbeb48fb0204",
   "metadata": {},
   "outputs": [],
   "source": [
    "os.environ[\"ACTIVELOOP_TOKEN\"] = os.environ[\"DEEPLAKE_API_KEY\"]"
   ]
  },
  {
   "cell_type": "code",
   "execution_count": 4,
   "id": "10c87ee5-04ba-4744-a84a-cd2f27db29e5",
   "metadata": {},
   "outputs": [],
   "source": [
    "my_activeloop_org_id = os.environ[\"ACTIVELOOP_ORG_ID\"]"
   ]
  },
  {
   "cell_type": "code",
   "execution_count": 5,
   "id": "58b0b457-8476-4c4d-94d6-ae206064139f",
   "metadata": {},
   "outputs": [],
   "source": [
    "my_activeloop_dataset_name = \"basic-rag-with-deeplake\""
   ]
  },
  {
   "cell_type": "code",
   "execution_count": 6,
   "id": "b9d92cc9-2184-4b18-8b89-7577928dceea",
   "metadata": {},
   "outputs": [],
   "source": [
    "from langchain_openai import OpenAIEmbeddings"
   ]
  },
  {
   "cell_type": "code",
   "execution_count": 7,
   "id": "8c1b0587-a2cd-412d-81d7-5e236da0b34e",
   "metadata": {},
   "outputs": [
    {
     "name": "stderr",
     "output_type": "stream",
     "text": [
      "C:\\Users\\mohdb\\gen-ai\\text-summarizer\\text-summarizer\\Lib\\site-packages\\deeplake\\util\\check_latest_version.py:32: UserWarning: A newer version of deeplake (3.9.11) is available. It's recommended that you update to the latest version using `pip install -U deeplake`.\n",
      "  warnings.warn(\n"
     ]
    }
   ],
   "source": [
    "from langchain_community.vectorstores import DeepLake"
   ]
  },
  {
   "cell_type": "code",
   "execution_count": 8,
   "id": "9cc0127d-8fbd-4bdc-bacf-86703d7922a7",
   "metadata": {},
   "outputs": [],
   "source": [
    "from langchain_text_splitters import RecursiveCharacterTextSplitter"
   ]
  },
  {
   "cell_type": "code",
   "execution_count": 9,
   "id": "d4a8dfb5-98f7-4bc1-882d-a08db9b48910",
   "metadata": {},
   "outputs": [],
   "source": [
    "from langchain.chains import RetrievalQA"
   ]
  },
  {
   "cell_type": "code",
   "execution_count": 10,
   "id": "f4f1bd60-04f0-497c-b387-9327f39b0304",
   "metadata": {},
   "outputs": [],
   "source": [
    "usa_curious_facts = [\n",
    "    \"\"\"\n",
    "    The US celebrates Independence Day from the British Empire \n",
    "    on July 4. However, the country’s Declaration of Independence \n",
    "    was passed on July 2. It was only officially ratified on July 4.\n",
    "    \"\"\",\n",
    "    \"\"\"\n",
    "    The very first documented European to arrive in North America was \n",
    "    the Spaniard Juan Ponce de León, who landed in Florida in 1513.\n",
    "    \"\"\"\n",
    "]"
   ]
  },
  {
   "cell_type": "code",
   "execution_count": 11,
   "id": "9943e107-bb2f-4f55-96fc-328f9c473449",
   "metadata": {},
   "outputs": [],
   "source": [
    "text_splitter = RecursiveCharacterTextSplitter(\n",
    "    chunk_size = 1000,\n",
    "    chunk_overlap = 0\n",
    ")"
   ]
  },
  {
   "cell_type": "code",
   "execution_count": 12,
   "id": "31c21a7a-a902-495f-be50-647e0ab035a2",
   "metadata": {},
   "outputs": [],
   "source": [
    "doc_chunks = text_splitter.create_documents(usa_curious_facts)"
   ]
  },
  {
   "cell_type": "code",
   "execution_count": 13,
   "id": "a5a3495d-bc6e-4f1a-9666-0b3d638ac683",
   "metadata": {},
   "outputs": [
    {
     "name": "stdout",
     "output_type": "stream",
     "text": [
      "Now you have 2 chunks.\n"
     ]
    }
   ],
   "source": [
    "print(f\"Now you have {len(doc_chunks)} chunks.\")"
   ]
  },
  {
   "cell_type": "code",
   "execution_count": 14,
   "id": "e0f863e7-7c63-4188-a234-5448ed27a457",
   "metadata": {},
   "outputs": [],
   "source": [
    "embeddings = OpenAIEmbeddings()"
   ]
  },
  {
   "cell_type": "code",
   "execution_count": 15,
   "id": "52b35bef-45e9-44ff-b120-94970222918c",
   "metadata": {},
   "outputs": [],
   "source": [
    "dataset_path = f\"hub://{my_activeloop_org_id}/{my_activeloop_dataset_name}\""
   ]
  },
  {
   "cell_type": "code",
   "execution_count": 16,
   "id": "60c1d2b7-06b9-4ae3-9470-23bf5e719b02",
   "metadata": {},
   "outputs": [
    {
     "name": "stdout",
     "output_type": "stream",
     "text": [
      "Deep Lake Dataset in hub://bilal420/basic-rag-with-deeplake already exists, loading from the storage\n"
     ]
    }
   ],
   "source": [
    "db = DeepLake(\n",
    "    dataset_path=dataset_path,\n",
    "    embedding=embeddings\n",
    ")"
   ]
  },
  {
   "cell_type": "code",
   "execution_count": 17,
   "id": "cf3cda10-baef-4feb-b1f3-55d9d9323004",
   "metadata": {},
   "outputs": [
    {
     "name": "stderr",
     "output_type": "stream",
     "text": [
      "Creating 2 embeddings in 1 batches of size 2:: 100%|█████████████████████████████████████| 1/1 [00:24<00:00, 24.85s/it]"
     ]
    },
    {
     "name": "stdout",
     "output_type": "stream",
     "text": [
      "Dataset(path='hub://bilal420/basic-rag-with-deeplake', tensors=['text', 'metadata', 'embedding', 'id'])\n",
      "\n",
      "  tensor      htype      shape     dtype  compression\n",
      "  -------    -------    -------   -------  ------- \n",
      "   text       text      (2, 1)      str     None   \n",
      " metadata     json      (2, 1)      str     None   \n",
      " embedding  embedding  (2, 1536)  float32   None   \n",
      "    id        text      (2, 1)      str     None   \n"
     ]
    },
    {
     "name": "stderr",
     "output_type": "stream",
     "text": [
      "\n"
     ]
    },
    {
     "data": {
      "text/plain": [
       "['96a6e8bc-2a70-11ef-91f3-dc215cf36ec4',\n",
       " '96a6e8bd-2a70-11ef-a70a-dc215cf36ec4']"
      ]
     },
     "execution_count": 17,
     "metadata": {},
     "output_type": "execute_result"
    }
   ],
   "source": [
    "db.add_documents(doc_chunks)"
   ]
  },
  {
   "cell_type": "code",
   "execution_count": 17,
   "id": "76d875bc-e073-4440-b05d-9dd7ddd9333d",
   "metadata": {},
   "outputs": [
    {
     "ename": "NameError",
     "evalue": "name 'qa_chain' is not defined",
     "output_type": "error",
     "traceback": [
      "\u001b[1;31m---------------------------------------------------------------------------\u001b[0m",
      "\u001b[1;31mNameError\u001b[0m                                 Traceback (most recent call last)",
      "Cell \u001b[1;32mIn[17], line 1\u001b[0m\n\u001b[1;32m----> 1\u001b[0m \u001b[43mqa_chain\u001b[49m\u001b[38;5;241m.\u001b[39mrun(\u001b[38;5;124m\"\u001b[39m\u001b[38;5;124mWhat is the largest state in the US?\u001b[39m\u001b[38;5;124m\"\u001b[39m)\n",
      "\u001b[1;31mNameError\u001b[0m: name 'qa_chain' is not defined"
     ]
    }
   ],
   "source": [
    "qa_chain.run(\"What is the largest state in the US?\")"
   ]
  },
  {
   "cell_type": "code",
   "execution_count": 18,
   "id": "0afc349b-fe07-4ce5-8693-f9b161fc3501",
   "metadata": {},
   "outputs": [],
   "source": [
    "from langchain_openai import OpenAI"
   ]
  },
  {
   "cell_type": "code",
   "execution_count": 19,
   "id": "3cbd9730-d300-45f7-b277-1adde713399a",
   "metadata": {},
   "outputs": [],
   "source": [
    "llm = OpenAI()"
   ]
  },
  {
   "cell_type": "code",
   "execution_count": 20,
   "id": "62fb1f13-5214-48b6-a51e-9a9996b04ee7",
   "metadata": {},
   "outputs": [],
   "source": [
    "qa_chain = RetrievalQA.from_chain_type(\n",
    "    llm=llm,\n",
    "    chain_type=\"stuff\",\n",
    "    retriever=db.as_retriever()\n",
    ")"
   ]
  },
  {
   "cell_type": "code",
   "execution_count": 21,
   "id": "5f52a2fb-f654-4ad1-9596-40facc1b40ad",
   "metadata": {},
   "outputs": [
    {
     "name": "stderr",
     "output_type": "stream",
     "text": [
      "C:\\Users\\mohdb\\gen-ai\\text-summarizer\\text-summarizer\\Lib\\site-packages\\langchain_core\\_api\\deprecation.py:119: LangChainDeprecationWarning: The method `Chain.run` was deprecated in langchain 0.1.0 and will be removed in 0.3.0. Use invoke instead.\n",
      "  warn_deprecated(\n"
     ]
    },
    {
     "data": {
      "text/plain": [
       "\" The U.S. Declaration of Independence was officially passed on July 4, but it was first proposed on July 2 and wasn't ratified until July 4.\""
      ]
     },
     "execution_count": 21,
     "metadata": {},
     "output_type": "execute_result"
    }
   ],
   "source": [
    "qa_chain.run(\"When was actually passed the U.S. Declaration of Independence?\")"
   ]
  },
  {
   "cell_type": "code",
   "execution_count": 22,
   "id": "e62c1eaf-a5ac-4dbc-a137-bce451c367b2",
   "metadata": {},
   "outputs": [
    {
     "data": {
      "text/plain": [
       "{'query': 'When was actually passed the U.S. Declaration of Independence?',\n",
       " 'result': ' The Declaration of Independence was passed on July 2.'}"
      ]
     },
     "execution_count": 22,
     "metadata": {},
     "output_type": "execute_result"
    }
   ],
   "source": [
    "qa_chain.invoke(\"When was actually passed the U.S. Declaration of Independence?\")"
   ]
  },
  {
   "cell_type": "code",
   "execution_count": 23,
   "id": "23fa77e5-14bb-46e7-b0ba-35af7b8b08ae",
   "metadata": {},
   "outputs": [],
   "source": [
    "additional_usa_curious_facts = [\n",
    "    \"\"\"\n",
    "    Alaska is the largest state in the US, and used to belong \n",
    "    to the Russian Empire before the US purchased it.\n",
    "    \"\"\",\n",
    "    \"\"\"\n",
    "    Big cities and regions have their own style of pizza: Chicago \n",
    "    Deep-Dish, New York Style, Detroit Pizza, St Louis-Style, and \n",
    "    New England Beach Pizza are just a few different varieties.\n",
    "    \"\"\"\n",
    "]"
   ]
  },
  {
   "cell_type": "code",
   "execution_count": 24,
   "id": "0ab84635-32fd-4dd0-9732-6c3de3efed3d",
   "metadata": {},
   "outputs": [],
   "source": [
    "additional_doc_chunks = text_splitter.create_documents(additional_usa_curious_facts)"
   ]
  },
  {
   "cell_type": "code",
   "execution_count": 25,
   "id": "590377ca-ba64-4c9b-ba0e-3f77fab00b22",
   "metadata": {},
   "outputs": [
    {
     "name": "stderr",
     "output_type": "stream",
     "text": [
      "Creating 2 embeddings in 1 batches of size 2:: 100%|█████████████████████████████████████| 1/1 [00:33<00:00, 33.29s/it]"
     ]
    },
    {
     "name": "stdout",
     "output_type": "stream",
     "text": [
      "Dataset(path='hub://bilal420/basic-rag-with-deeplake', tensors=['embedding', 'id', 'metadata', 'text'])\n",
      "\n",
      "  tensor      htype      shape     dtype  compression\n",
      "  -------    -------    -------   -------  ------- \n",
      " embedding  embedding  (4, 1536)  float32   None   \n",
      "    id        text      (4, 1)      str     None   \n",
      " metadata     json      (4, 1)      str     None   \n",
      "   text       text      (4, 1)      str     None   \n"
     ]
    },
    {
     "name": "stderr",
     "output_type": "stream",
     "text": [
      "\n"
     ]
    },
    {
     "data": {
      "text/plain": [
       "['49dacce7-3540-11ef-899e-dc215cf36ec4',\n",
       " '49dacce8-3540-11ef-b859-dc215cf36ec4']"
      ]
     },
     "execution_count": 25,
     "metadata": {},
     "output_type": "execute_result"
    }
   ],
   "source": [
    "db.add_documents(additional_doc_chunks)"
   ]
  },
  {
   "cell_type": "code",
   "execution_count": null,
   "id": "fb4092a7-aea8-4258-a5fc-f58983e19f9a",
   "metadata": {},
   "outputs": [],
   "source": [
    "  "
   ]
  }
 ],
 "metadata": {
  "kernelspec": {
   "display_name": "Python 3 (ipykernel)",
   "language": "python",
   "name": "python3"
  },
  "language_info": {
   "codemirror_mode": {
    "name": "ipython",
    "version": 3
   },
   "file_extension": ".py",
   "mimetype": "text/x-python",
   "name": "python",
   "nbconvert_exporter": "python",
   "pygments_lexer": "ipython3",
   "version": "3.11.0"
  }
 },
 "nbformat": 4,
 "nbformat_minor": 5
}
