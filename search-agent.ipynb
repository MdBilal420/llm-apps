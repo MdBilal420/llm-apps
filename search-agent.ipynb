{
 "cells": [
  {
   "cell_type": "code",
   "execution_count": 1,
   "id": "3ec145b5-ca36-4303-b4d8-51bbb12875ad",
   "metadata": {},
   "outputs": [],
   "source": [
    "import os\n",
    "from dotenv import load_dotenv, find_dotenv\n",
    "_ = load_dotenv(find_dotenv())\n",
    "openai_api_key = os.environ[\"OPENAI_API_KEY\"]"
   ]
  },
  {
   "cell_type": "code",
   "execution_count": 2,
   "id": "ff556fe1-d5fe-478d-98d8-6721a89a1003",
   "metadata": {},
   "outputs": [],
   "source": [
    "from langchain_openai import OpenAI"
   ]
  },
  {
   "cell_type": "code",
   "execution_count": 3,
   "id": "35e20097-03ed-4830-929f-7c11411dc3e9",
   "metadata": {},
   "outputs": [],
   "source": [
    "llm = OpenAI()"
   ]
  },
  {
   "cell_type": "code",
   "execution_count": 4,
   "id": "39b787bd-76f6-4845-b81d-55139e0788f8",
   "metadata": {},
   "outputs": [],
   "source": [
    "from langchain_community.utilities import GoogleSerperAPIWrapper"
   ]
  },
  {
   "cell_type": "code",
   "execution_count": 5,
   "id": "be416a50-f952-4e1f-ae66-2e2aaf55e48f",
   "metadata": {},
   "outputs": [],
   "source": [
    "os.environ[\"GOOGLE_API_KEY\"] = os.environ[\"GOOGLE_API_KEY\"]"
   ]
  },
  {
   "cell_type": "code",
   "execution_count": 6,
   "id": "da74548f-6015-4c33-98bf-cd0abef90c45",
   "metadata": {},
   "outputs": [],
   "source": [
    "os.environ[\"GOOGLE_CSE_ID\"] = os.environ[\"GOOGLE_CSE_ID\"]"
   ]
  },
  {
   "cell_type": "code",
   "execution_count": 7,
   "id": "cb11c0d0-0553-40ec-b508-4697f16d78d3",
   "metadata": {},
   "outputs": [
    {
     "name": "stdout",
     "output_type": "stream",
     "text": [
      "Requirement already satisfied: google-api-python-client in c:\\users\\mohdb\\gen-ai\\text-summarizer\\text-summarizer\\lib\\site-packages (2.135.0)\n",
      "Requirement already satisfied: httplib2<1.dev0,>=0.19.0 in c:\\users\\mohdb\\gen-ai\\text-summarizer\\text-summarizer\\lib\\site-packages (from google-api-python-client) (0.22.0)\n",
      "Requirement already satisfied: google-auth!=2.24.0,!=2.25.0,<3.0.0.dev0,>=1.32.0 in c:\\users\\mohdb\\gen-ai\\text-summarizer\\text-summarizer\\lib\\site-packages (from google-api-python-client) (2.30.0)\n",
      "Requirement already satisfied: google-auth-httplib2<1.0.0,>=0.2.0 in c:\\users\\mohdb\\gen-ai\\text-summarizer\\text-summarizer\\lib\\site-packages (from google-api-python-client) (0.2.0)\n",
      "Requirement already satisfied: google-api-core!=2.0.*,!=2.1.*,!=2.2.*,!=2.3.0,<3.0.0.dev0,>=1.31.5 in c:\\users\\mohdb\\gen-ai\\text-summarizer\\text-summarizer\\lib\\site-packages (from google-api-python-client) (2.19.1)\n",
      "Requirement already satisfied: uritemplate<5,>=3.0.1 in c:\\users\\mohdb\\gen-ai\\text-summarizer\\text-summarizer\\lib\\site-packages (from google-api-python-client) (4.1.1)\n",
      "Requirement already satisfied: googleapis-common-protos<2.0.dev0,>=1.56.2 in c:\\users\\mohdb\\gen-ai\\text-summarizer\\text-summarizer\\lib\\site-packages (from google-api-core!=2.0.*,!=2.1.*,!=2.2.*,!=2.3.0,<3.0.0.dev0,>=1.31.5->google-api-python-client) (1.63.1)\n",
      "Requirement already satisfied: protobuf!=3.20.0,!=3.20.1,!=4.21.0,!=4.21.1,!=4.21.2,!=4.21.3,!=4.21.4,!=4.21.5,<6.0.0.dev0,>=3.19.5 in c:\\users\\mohdb\\gen-ai\\text-summarizer\\text-summarizer\\lib\\site-packages (from google-api-core!=2.0.*,!=2.1.*,!=2.2.*,!=2.3.0,<3.0.0.dev0,>=1.31.5->google-api-python-client) (4.25.3)\n",
      "Requirement already satisfied: proto-plus<2.0.0dev,>=1.22.3 in c:\\users\\mohdb\\gen-ai\\text-summarizer\\text-summarizer\\lib\\site-packages (from google-api-core!=2.0.*,!=2.1.*,!=2.2.*,!=2.3.0,<3.0.0.dev0,>=1.31.5->google-api-python-client) (1.24.0)\n",
      "Requirement already satisfied: requests<3.0.0.dev0,>=2.18.0 in c:\\users\\mohdb\\gen-ai\\text-summarizer\\text-summarizer\\lib\\site-packages (from google-api-core!=2.0.*,!=2.1.*,!=2.2.*,!=2.3.0,<3.0.0.dev0,>=1.31.5->google-api-python-client) (2.32.3)\n",
      "Requirement already satisfied: cachetools<6.0,>=2.0.0 in c:\\users\\mohdb\\gen-ai\\text-summarizer\\text-summarizer\\lib\\site-packages (from google-auth!=2.24.0,!=2.25.0,<3.0.0.dev0,>=1.32.0->google-api-python-client) (5.3.3)\n",
      "Requirement already satisfied: pyasn1-modules>=0.2.1 in c:\\users\\mohdb\\gen-ai\\text-summarizer\\text-summarizer\\lib\\site-packages (from google-auth!=2.24.0,!=2.25.0,<3.0.0.dev0,>=1.32.0->google-api-python-client) (0.4.0)\n",
      "Requirement already satisfied: rsa<5,>=3.1.4 in c:\\users\\mohdb\\gen-ai\\text-summarizer\\text-summarizer\\lib\\site-packages (from google-auth!=2.24.0,!=2.25.0,<3.0.0.dev0,>=1.32.0->google-api-python-client) (4.9)\n",
      "Requirement already satisfied: pyparsing!=3.0.0,!=3.0.1,!=3.0.2,!=3.0.3,<4,>=2.4.2 in c:\\users\\mohdb\\gen-ai\\text-summarizer\\text-summarizer\\lib\\site-packages (from httplib2<1.dev0,>=0.19.0->google-api-python-client) (3.1.2)\n",
      "Requirement already satisfied: pyasn1<0.7.0,>=0.4.6 in c:\\users\\mohdb\\gen-ai\\text-summarizer\\text-summarizer\\lib\\site-packages (from pyasn1-modules>=0.2.1->google-auth!=2.24.0,!=2.25.0,<3.0.0.dev0,>=1.32.0->google-api-python-client) (0.6.0)\n",
      "Requirement already satisfied: charset-normalizer<4,>=2 in c:\\users\\mohdb\\gen-ai\\text-summarizer\\text-summarizer\\lib\\site-packages (from requests<3.0.0.dev0,>=2.18.0->google-api-core!=2.0.*,!=2.1.*,!=2.2.*,!=2.3.0,<3.0.0.dev0,>=1.31.5->google-api-python-client) (3.3.2)\n",
      "Requirement already satisfied: idna<4,>=2.5 in c:\\users\\mohdb\\gen-ai\\text-summarizer\\text-summarizer\\lib\\site-packages (from requests<3.0.0.dev0,>=2.18.0->google-api-core!=2.0.*,!=2.1.*,!=2.2.*,!=2.3.0,<3.0.0.dev0,>=1.31.5->google-api-python-client) (3.7)\n",
      "Requirement already satisfied: urllib3<3,>=1.21.1 in c:\\users\\mohdb\\gen-ai\\text-summarizer\\text-summarizer\\lib\\site-packages (from requests<3.0.0.dev0,>=2.18.0->google-api-core!=2.0.*,!=2.1.*,!=2.2.*,!=2.3.0,<3.0.0.dev0,>=1.31.5->google-api-python-client) (2.2.1)\n",
      "Requirement already satisfied: certifi>=2017.4.17 in c:\\users\\mohdb\\gen-ai\\text-summarizer\\text-summarizer\\lib\\site-packages (from requests<3.0.0.dev0,>=2.18.0->google-api-core!=2.0.*,!=2.1.*,!=2.2.*,!=2.3.0,<3.0.0.dev0,>=1.31.5->google-api-python-client) (2024.2.2)\n",
      "Note: you may need to restart the kernel to use updated packages.\n"
     ]
    },
    {
     "name": "stderr",
     "output_type": "stream",
     "text": [
      "\n",
      "[notice] A new release of pip available: 22.3 -> 24.1.1\n",
      "[notice] To update, run: python.exe -m pip install --upgrade pip\n"
     ]
    }
   ],
   "source": [
    "pip install google-api-python-client"
   ]
  },
  {
   "cell_type": "code",
   "execution_count": 8,
   "id": "23a5a6a4-f9e8-4ba4-85ba-d20ce01a0465",
   "metadata": {},
   "outputs": [],
   "source": [
    "from langchain_community.utilities import GoogleSerperAPIWrapper"
   ]
  },
  {
   "cell_type": "code",
   "execution_count": 9,
   "id": "e1947bf2-6e43-4f0d-be95-db7c30113cb9",
   "metadata": {},
   "outputs": [],
   "source": [
    "search = GoogleSerperAPIWrapper()"
   ]
  },
  {
   "cell_type": "code",
   "execution_count": 10,
   "id": "1147d5d9-16c4-495c-bf98-3870482bb47c",
   "metadata": {},
   "outputs": [],
   "source": [
    "from langchain_community.utilities import TextRequestsWrapper"
   ]
  },
  {
   "cell_type": "code",
   "execution_count": 11,
   "id": "137f4b1c-f950-4d09-92ac-68f9872b067b",
   "metadata": {},
   "outputs": [],
   "source": [
    "requests = TextRequestsWrapper()"
   ]
  },
  {
   "cell_type": "code",
   "execution_count": 12,
   "id": "8b990888-a885-4fb6-8506-b9a0af59f5a7",
   "metadata": {},
   "outputs": [],
   "source": [
    "from langchain.agents import Tool"
   ]
  },
  {
   "cell_type": "code",
   "execution_count": 13,
   "id": "036ed6a8-9bef-400e-a1f8-7a1af8eca14e",
   "metadata": {},
   "outputs": [],
   "source": [
    "tools = [\n",
    "    Tool(\n",
    "        name=\"google-search\",\n",
    "        func=search.run,\n",
    "        description=\"\"\"\n",
    "        useful when you need to search google\n",
    "        to answer questions about current events\n",
    "        \"\"\"\n",
    "    ),\n",
    "    Tool(\n",
    "        name=\"request\",\n",
    "        func=requests.get,\n",
    "        description=\"\"\"\n",
    "        useful when you need to make a request to a URL\n",
    "        \"\"\"\n",
    "    )\n",
    "]"
   ]
  },
  {
   "cell_type": "code",
   "execution_count": 14,
   "id": "cd7a0914-5750-4219-9935-0af7c24ed2aa",
   "metadata": {},
   "outputs": [],
   "source": [
    "from langchain.agents import initialize_agent"
   ]
  },
  {
   "cell_type": "code",
   "execution_count": 15,
   "id": "d6fe0ed4-a5fc-4ad4-9df8-4be391bfe729",
   "metadata": {},
   "outputs": [],
   "source": [
    "from langchain.agents import AgentType"
   ]
  },
  {
   "cell_type": "code",
   "execution_count": 16,
   "id": "f6001e2e-c995-437f-a600-963e728c1ab2",
   "metadata": {},
   "outputs": [
    {
     "name": "stderr",
     "output_type": "stream",
     "text": [
      "C:\\Users\\mohdb\\gen-ai\\text-summarizer\\text-summarizer\\Lib\\site-packages\\langchain_core\\_api\\deprecation.py:119: LangChainDeprecationWarning: The function `initialize_agent` was deprecated in LangChain 0.1.0 and will be removed in 0.3.0. Use Use new agent constructor methods like create_react_agent, create_json_agent, create_structured_chat_agent, etc. instead.\n",
      "  warn_deprecated(\n"
     ]
    }
   ],
   "source": [
    "my_agent = initialize_agent(\n",
    "    tools=tools,\n",
    "    llm=llm,\n",
    "    agent=AgentType.ZERO_SHOT_REACT_DESCRIPTION,\n",
    "    verbose=True,\n",
    "    max_iterations=3\n",
    ")"
   ]
  },
  {
   "cell_type": "code",
   "execution_count": 17,
   "id": "4eb54853-5bb1-4719-99a3-2684e3f17924",
   "metadata": {},
   "outputs": [],
   "source": [
    "question = \"Which team won the 2010 soccer world chapionship?\""
   ]
  },
  {
   "cell_type": "code",
   "execution_count": 18,
   "id": "202e7d9c-9076-48c2-bec1-8f1aeeebe07c",
   "metadata": {},
   "outputs": [
    {
     "name": "stderr",
     "output_type": "stream",
     "text": [
      "C:\\Users\\mohdb\\gen-ai\\text-summarizer\\text-summarizer\\Lib\\site-packages\\langchain_core\\_api\\deprecation.py:119: LangChainDeprecationWarning: The method `Chain.__call__` was deprecated in langchain 0.1.0 and will be removed in 0.3.0. Use invoke instead.\n",
      "  warn_deprecated(\n"
     ]
    },
    {
     "name": "stdout",
     "output_type": "stream",
     "text": [
      "\n",
      "\n",
      "\u001b[1m> Entering new AgentExecutor chain...\u001b[0m\n",
      "\u001b[32;1m\u001b[1;3m I should first search for the 2010 soccer world championship to understand more about the tournament.\n",
      "Action: google-search\n",
      "Action Input: \"2010 soccer world championship\"\u001b[0m\n",
      "Observation: \u001b[36;1m\u001b[1;3m2010 FIFA World Cup: Soccer championship. The 2010 FIFA World Cup was the 19th FIFA World Cup, the world championship for men's national football teams. It took place in South Africa from 11 June to 11 July 2010. The bidding process for hosting the tournament finals was open only to... 2010 FIFA World Cup Champion: Spain national football team. 2010 FIFA World Cup Dates: Jun 11, 2010 – Jul 11, 2010. 2010 FIFA World Cup Location: South Africa and Johannesburg. The 2010 FIFA World Cup was the 19th FIFA World Cup, the world championship for men's national football teams. It took place in South Africa from 11 June to ... The 2010 FIFA World Cup final was the final match of the 2010 World Cup, the 19th edition of FIFA's competition for national football teams. Netherlands - Spain, 2010 FIFA World Cup South Africa™: The fateful move that led to Andres ... Duration: 4:27. Posted: Jul 11, 2012. Host: South Africa Teams: 32. Format: Group stage, knockouts. Matches: 64. Goals: 145. Winner: Spain Runners-up: Netherlands Thirteen countries participated, and Uruguay defeated Argentina 4–2 in the championship match. The United States finished third. Noticeably ... This virtual exhibition highlights a great sports tradition, featuring stamps from several of the countries that have previously been honored with hosting the ... FIFA WORLD CUP 26™ · MUNDIAL DE CLUBES FIFA 25™ · FIFA WOMEN'S WORLD CUP 2027 ... ROBLOX FIFA WORLD · MORE GAMES. SHOP. FIFA STORE · TICKETS · FIFA+ COLLECT. Watch more of your favourite #FIFAWorldCup moments on FIFA+ ➡️ https://www.fifa.com/fifaplus/en ... Duration: 1:38:16. Posted: Nov 17, 2022. The 2010 FIFA World Cup, also branded as South Africa 2010, was the 19th FIFA World Cup, the world championship for men's national football teams. The 2010 FIFA World Cup was the 19th FIFA World Cup, the world championship for men's national association football teams. It took place in South Africa ...\u001b[0m\n",
      "Thought:\u001b[32;1m\u001b[1;3m I now have a good understanding of the 2010 soccer world championship and can search for the winning team.\n",
      "Action: google-search\n",
      "Action Input: \"2010 soccer world championship winning team\"\u001b[0m\n",
      "Observation: \u001b[36;1m\u001b[1;3mSpain national football team\u001b[0m\n",
      "Thought:\u001b[32;1m\u001b[1;3m I now know the final answer.\n",
      "Final Answer: Spain national football team won the 2010 soccer world championship.\u001b[0m\n",
      "\n",
      "\u001b[1m> Finished chain.\u001b[0m\n"
     ]
    }
   ],
   "source": [
    "response = my_agent(question)"
   ]
  },
  {
   "cell_type": "code",
   "execution_count": 19,
   "id": "14690853-6b3f-4976-89f9-b547cf379ac1",
   "metadata": {},
   "outputs": [
    {
     "name": "stdout",
     "output_type": "stream",
     "text": [
      "Spain national football team won the 2010 soccer world championship.\n"
     ]
    }
   ],
   "source": [
    "print(response[\"output\"])"
   ]
  },
  {
   "cell_type": "code",
   "execution_count": 20,
   "id": "967cbb70-55f7-44b5-9e71-af5acce56fa1",
   "metadata": {},
   "outputs": [],
   "source": [
    "question2 = {\n",
    "    \"input\": \"Tell me about what subject are the comments in this webpage https://news.ycombinator.com/item?id=40834349\"\n",
    "}"
   ]
  },
  {
   "cell_type": "code",
   "execution_count": 21,
   "id": "b8483aec-9f9f-4442-9273-1a81e81e6264",
   "metadata": {},
   "outputs": [
    {
     "name": "stdout",
     "output_type": "stream",
     "text": [
      "\n",
      "\n",
      "\u001b[1m> Entering new AgentExecutor chain...\u001b[0m\n",
      "\u001b[32;1m\u001b[1;3m I should search the url provided and find out what are the comments about.\n",
      "Action: google-search\n",
      "Action Input: https://news.ycombinator.com/item?id=40834349\u001b[0m\n",
      "Observation: \u001b[36;1m\u001b[1;3mHacker News new | past | comments | ask | show | jobs | submit · login · Inside a $1 radar motion sensor (10maurycy10.github.io). 1 point by ... I'm pretty sure that the code that decides whether or not to display a [dead] post doesn't consider whether the user had upvoted the post before it became [dead] ... Missing: 40834349 | Show results with:40834349. Hacker News new | past | comments | ask | show | jobs ... 28. Nango (YC W23) Is Hiring a Senior Product Engineer (100% Remote, EST Timezone) (nango.dev). Missing: 40834349 | Show results with:40834349. [flagged] [dead] https://news.ycombinator.com/item?id=40725329. [flagged] [dead] https://news.ycombinator.com/item?id=40725509 (5 comments). Missing: 40834349 | Show results with:40834349. I see. If continuing to operate it is out of the question and selling it is too much of a hassle, have you considered open sourcing the code to ... Missing: 40834349 | Show results with:40834349. I would love to hear counterpoints. Currently, SQLite works pretty well, and our custom database is pretty simple (plus, our database code is also open source[1]) ... Missing: 40834349 | Show results with:40834349. https://news.ycombinator.com/item?id=35631555. (contributed for several years at a low code/no code prodcut org, familiar with integration ... Missing: 40834349 | Show results with:40834349. Yes! back in 2001, I wrote a set of tools I called Ted's Toolbox, to help me with GPS, astronomy and coding things I needed. Missing: 40834349 | Show results with:40834349. tikkun on March 12, 2023 | parent | context | favorite | on: Ask HN: Best resources to learn more about GPT, Ch... Check out these: https://news.ycombinator.com ... Missing: 40834349 | Show results with:40834349.\u001b[0m\n",
      "Thought:\u001b[32;1m\u001b[1;3m I should read through the comments and see if there is a common theme or subject being discussed.\n",
      "Action: google-search\n",
      "Action Input: https://news.ycombinator.com/item?id=40834349\u001b[0m\n",
      "Observation: \u001b[36;1m\u001b[1;3mHacker News new | past | comments | ask | show | jobs | submit · login · Inside a $1 radar motion sensor (10maurycy10.github.io). 1 point by ... I'm pretty sure that the code that decides whether or not to display a [dead] post doesn't consider whether the user had upvoted the post before it became [dead] ... Missing: 40834349 | Show results with:40834349. Hacker News new | past | comments | ask | show | jobs | submit · login. 1. Inside a $1 radar motion sensor (10maurycy10.github.io). 80 points by nothacking_ 3 ... Missing: 40834349 | Show results with:40834349. Seem pertinent to atleast get an affidavit from the ex-employee detailing what he as done, agree to hold on to the hardware as evidence, put liability on the ... Missing: 40834349 | Show results with:40834349. [flagged] [dead] https://news.ycombinator.com/item?id=40725329. [flagged] [dead] https://news.ycombinator.com/item?id=40725509 (5 comments). Missing: 40834349 | Show results with:40834349. I see. If continuing to operate it is out of the question and selling it is too much of a hassle, have you considered open sourcing the code to ... Missing: 40834349 | Show results with:40834349. I would love to hear counterpoints. Currently, SQLite works pretty well, and our custom database is pretty simple (plus, our database code is also open source[1]) ... Missing: 40834349 | Show results with:40834349. https://news.ycombinator.com/item?id=35631555. (contributed for several years at a low code/no code prodcut org, familiar with integration ... Missing: 40834349 | Show results with:40834349. Yes! back in 2001, I wrote a set of tools I called Ted's Toolbox, to help me with GPS, astronomy and coding things I needed. Missing: 40834349 | Show results with:40834349.\u001b[0m\n",
      "Thought:\u001b[32;1m\u001b[1;3m I should try searching for a specific keyword, such as \"subject\" to see if I can find a direct answer to the question.\n",
      "Action: google-search\n",
      "Action Input: \"subject\" https://news.ycombinator.com/item?id=40834349\u001b[0m\n",
      "Observation: \u001b[36;1m\u001b[1;3mHacker News new | past | comments | ask | show | jobs ... 28. Nango (YC W23) Is Hiring a Senior Product Engineer (100% Remote, EST Timezone) (nango.dev). I'm pretty sure that the code that decides whether or not to display a [dead] post doesn't consider whether the user had upvoted the post before it became [dead] ... Missing: subject\" 40834349. In the case of https://news.ycombinator.com/item?id=39095738, it just set off the flamewar detector, a,k.a. the overheated discussion detector. We sometimes ... Missing: 40834349 | Show results with:40834349. Dependency injection is a basic tool of writing robust, testable code. The alternative is strict hard-wiring of the dependencies, which deprives ... Missing: 40834349 | Show results with:40834349. Depending on where (and how) you play the string you can emphasise the harmonics more or the fundamental tone more. Here for example is a piece ... Missing: subject\" 40834349. Seem pertinent to atleast get an affidavit from the ex-employee detailing what he as done, agree to hold on to the hardware as evidence, put liability on the ... Missing: 40834349 | Show results with:40834349. Since the point is to give people more to read, 'more' seemed right. https://news.ycombinator.com/item?id=12073675 · https://news.ycombinator. As a novice, is there a benefit to using custom Node as the downloader? When I did my download of the 40 million Hacker News api items I used \" ... Missing: 40834349 | Show results with:40834349.\u001b[0m\n",
      "Thought:\u001b[32;1m\u001b[1;3m\u001b[0m\n",
      "\n",
      "\u001b[1m> Finished chain.\u001b[0m\n"
     ]
    }
   ],
   "source": [
    "response = my_agent(question2)"
   ]
  },
  {
   "cell_type": "code",
   "execution_count": 22,
   "id": "0eb73498-3603-42ce-b492-ff8c0bfc2236",
   "metadata": {},
   "outputs": [
    {
     "name": "stdout",
     "output_type": "stream",
     "text": [
      "Agent stopped due to iteration limit or time limit.\n"
     ]
    }
   ],
   "source": [
    "print(response[\"output\"])"
   ]
  },
  {
   "cell_type": "code",
   "execution_count": null,
   "id": "200ac0f8-f928-47c0-bb7b-94b5fcec4f8e",
   "metadata": {},
   "outputs": [],
   "source": []
  }
 ],
 "metadata": {
  "kernelspec": {
   "display_name": "Python 3 (ipykernel)",
   "language": "python",
   "name": "python3"
  },
  "language_info": {
   "codemirror_mode": {
    "name": "ipython",
    "version": 3
   },
   "file_extension": ".py",
   "mimetype": "text/x-python",
   "name": "python",
   "nbconvert_exporter": "python",
   "pygments_lexer": "ipython3",
   "version": "3.11.0"
  }
 },
 "nbformat": 4,
 "nbformat_minor": 5
}
